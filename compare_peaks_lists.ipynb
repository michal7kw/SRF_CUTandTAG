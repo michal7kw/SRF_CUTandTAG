{
 "cells": [
  {
   "cell_type": "code",
   "execution_count": 58,
   "metadata": {},
   "outputs": [],
   "source": [
    "import pandas as pd\n",
    "import os\n",
    "\n",
    "wd_dir = '/beegfs/scratch/ric.broccoli/kubacki.michal/SRF_CUTandTAG'\n",
    "os.chdir(wd_dir)"
   ]
  },
  {
   "cell_type": "code",
   "execution_count": 59,
   "metadata": {},
   "outputs": [],
   "source": [
    "def find_intersection(file1_path, file2_path, gene_list=None):\n",
    "    \"\"\"\n",
    "    Find intersection between two CSV files based on gene, Endogenous_Promoter, \n",
    "    and Exogenous_Promoter columns.\n",
    "    \n",
    "    Args:\n",
    "        file1_path (str): Path to first CSV file\n",
    "        file2_path (str): Path to second CSV file\n",
    "        \n",
    "    Returns:\n",
    "        pandas.DataFrame: Merged data frame containing matching rows\n",
    "    \"\"\"\n",
    "    # Read the CSV files\n",
    "    df1 = pd.read_csv(file1_path)\n",
    "    df2 = pd.read_csv(file2_path)\n",
    "    \n",
    "    if gene_list is not None:\n",
    "        # Filter df1 to only include genes from gene_list\n",
    "        df1 = df1[df1['gene'].isin(gene_list)]\n",
    "    \n",
    "    # Select only the columns we want to compare\n",
    "    columns_to_compare = ['gene', 'Endogenous_Promoter', 'Exogenous_Promoter']\n",
    "    \n",
    "    # Ensure boolean values are consistent\n",
    "    for df in [df1, df2]:\n",
    "        df['Endogenous_Promoter'] = df['Endogenous_Promoter'].astype(bool)\n",
    "        df['Exogenous_Promoter'] = df['Exogenous_Promoter'].astype(bool)\n",
    "    \n",
    "    # Merge the dataframes on the specified columns\n",
    "    merged_df = pd.merge(df1, \n",
    "                        df2,\n",
    "                        on=columns_to_compare,\n",
    "                        suffixes=('_file1', '_file2'))\n",
    "    \n",
    "    # Create a summary of the results\n",
    "    total_rows_file1 = len(df1)\n",
    "    total_rows_file2 = len(df2)\n",
    "    matching_rows = len(merged_df)\n",
    "    \n",
    "    print(f\"Total rows in file 1: {total_rows_file1}\")\n",
    "    print(f\"Total rows in file 2: {total_rows_file2}\")\n",
    "    print(f\"Number of matching rows: {matching_rows}\")\n",
    "    \n",
    "    return merged_df"
   ]
  },
  {
   "cell_type": "markdown",
   "metadata": {},
   "source": [
    "## Neuron disregulated genes"
   ]
  },
  {
   "cell_type": "code",
   "execution_count": 60,
   "metadata": {},
   "outputs": [],
   "source": [
    "# Load gene lists from CSV files\n",
    "upregulated = pd.read_csv('custom_pipeline/DATA/neuron_upregulated_genes.csv')['gene'].tolist()\n",
    "downregulated = pd.read_csv('custom_pipeline/DATA/neuron_downregulated_genes.csv')['gene'].tolist() \n",
    "\n",
    "disregulated = upregulated + downregulated"
   ]
  },
  {
   "cell_type": "code",
   "execution_count": 61,
   "metadata": {},
   "outputs": [],
   "source": [
    "file1_path = 'custom_pipeline/results/Neuron_peak_analysis_annotated_clean.csv'\n",
    "file2_path = 'custom_pipeline/DATA/allgenes_NEU_total.csv'"
   ]
  },
  {
   "cell_type": "code",
   "execution_count": 62,
   "metadata": {},
   "outputs": [],
   "source": [
    "%%script false --no-raise-error\n",
    "# Find intersection\n",
    "result = find_intersection(file1_path, file2_path)\n",
    "\n",
    "# Display the first few rows of the intersection\n",
    "result.head()\n",
    "\n",
    "# save the results\n",
    "# path_to_save = 'custom_pipeline/results'\n",
    "# result.to_csv(f'{path_to_save}/matches_Neuron_file2.csv', index=False)"
   ]
  },
  {
   "cell_type": "code",
   "execution_count": 63,
   "metadata": {},
   "outputs": [
    {
     "name": "stdout",
     "output_type": "stream",
     "text": [
      "Total rows in file 1: 3109\n",
      "Total rows in file 2: 383\n",
      "Number of matching rows: 372\n"
     ]
    }
   ],
   "source": [
    "# Find intersection\n",
    "result = find_intersection(file1_path, file2_path, disregulated)"
   ]
  },
  {
   "cell_type": "code",
   "execution_count": 64,
   "metadata": {},
   "outputs": [
    {
     "data": {
      "text/html": [
       "<div>\n",
       "<style scoped>\n",
       "    .dataframe tbody tr th:only-of-type {\n",
       "        vertical-align: middle;\n",
       "    }\n",
       "\n",
       "    .dataframe tbody tr th {\n",
       "        vertical-align: top;\n",
       "    }\n",
       "\n",
       "    .dataframe thead th {\n",
       "        text-align: right;\n",
       "    }\n",
       "</style>\n",
       "<table border=\"1\" class=\"dataframe\">\n",
       "  <thead>\n",
       "    <tr style=\"text-align: right;\">\n",
       "      <th></th>\n",
       "      <th>location</th>\n",
       "      <th>baseMean_file1</th>\n",
       "      <th>Endogenous_Promoter</th>\n",
       "      <th>Exogenous_Promoter</th>\n",
       "      <th>chrom</th>\n",
       "      <th>coords</th>\n",
       "      <th>start</th>\n",
       "      <th>end</th>\n",
       "      <th>gene</th>\n",
       "      <th>baseMean_file2</th>\n",
       "      <th>log2FoldChange</th>\n",
       "      <th>Direction</th>\n",
       "    </tr>\n",
       "  </thead>\n",
       "  <tbody>\n",
       "    <tr>\n",
       "      <th>0</th>\n",
       "      <td>chr13:12096677-12096805</td>\n",
       "      <td>36.13</td>\n",
       "      <td>False</td>\n",
       "      <td>True</td>\n",
       "      <td>chr13</td>\n",
       "      <td>12096677-12096805</td>\n",
       "      <td>12096677</td>\n",
       "      <td>12096805</td>\n",
       "      <td>Ryr2</td>\n",
       "      <td>3463.711688</td>\n",
       "      <td>-0.508089</td>\n",
       "      <td>DOWN</td>\n",
       "    </tr>\n",
       "    <tr>\n",
       "      <th>1</th>\n",
       "      <td>chr3:130315981-130316311</td>\n",
       "      <td>52.43</td>\n",
       "      <td>False</td>\n",
       "      <td>True</td>\n",
       "      <td>chr3</td>\n",
       "      <td>130315981-130316311</td>\n",
       "      <td>130315981</td>\n",
       "      <td>130316311</td>\n",
       "      <td>Col25a1</td>\n",
       "      <td>1176.761395</td>\n",
       "      <td>-0.950117</td>\n",
       "      <td>DOWN</td>\n",
       "    </tr>\n",
       "    <tr>\n",
       "      <th>2</th>\n",
       "      <td>chr5:141836791-141837462</td>\n",
       "      <td>39.44</td>\n",
       "      <td>False</td>\n",
       "      <td>True</td>\n",
       "      <td>chr5</td>\n",
       "      <td>141836791-141837462</td>\n",
       "      <td>141836791</td>\n",
       "      <td>141837462</td>\n",
       "      <td>Sdk1</td>\n",
       "      <td>216.344835</td>\n",
       "      <td>-0.683171</td>\n",
       "      <td>DOWN</td>\n",
       "    </tr>\n",
       "    <tr>\n",
       "      <th>3</th>\n",
       "      <td>chr9:60414018-60414689</td>\n",
       "      <td>121.26</td>\n",
       "      <td>True</td>\n",
       "      <td>False</td>\n",
       "      <td>chr9</td>\n",
       "      <td>60414018-60414689</td>\n",
       "      <td>60414018</td>\n",
       "      <td>60414689</td>\n",
       "      <td>Thsd4</td>\n",
       "      <td>187.100745</td>\n",
       "      <td>-0.575236</td>\n",
       "      <td>DOWN</td>\n",
       "    </tr>\n",
       "    <tr>\n",
       "      <th>4</th>\n",
       "      <td>chr13:46517193-46517674</td>\n",
       "      <td>84.35</td>\n",
       "      <td>False</td>\n",
       "      <td>True</td>\n",
       "      <td>chr13</td>\n",
       "      <td>46517193-46517674</td>\n",
       "      <td>46517193</td>\n",
       "      <td>46517674</td>\n",
       "      <td>Cap2</td>\n",
       "      <td>3241.927847</td>\n",
       "      <td>-0.637369</td>\n",
       "      <td>DOWN</td>\n",
       "    </tr>\n",
       "  </tbody>\n",
       "</table>\n",
       "</div>"
      ],
      "text/plain": [
       "                   location  baseMean_file1  Endogenous_Promoter  \\\n",
       "0   chr13:12096677-12096805           36.13                False   \n",
       "1  chr3:130315981-130316311           52.43                False   \n",
       "2  chr5:141836791-141837462           39.44                False   \n",
       "3    chr9:60414018-60414689          121.26                 True   \n",
       "4   chr13:46517193-46517674           84.35                False   \n",
       "\n",
       "   Exogenous_Promoter  chrom               coords      start        end  \\\n",
       "0                True  chr13    12096677-12096805   12096677   12096805   \n",
       "1                True   chr3  130315981-130316311  130315981  130316311   \n",
       "2                True   chr5  141836791-141837462  141836791  141837462   \n",
       "3               False   chr9    60414018-60414689   60414018   60414689   \n",
       "4                True  chr13    46517193-46517674   46517193   46517674   \n",
       "\n",
       "      gene  baseMean_file2  log2FoldChange Direction  \n",
       "0     Ryr2     3463.711688       -0.508089      DOWN  \n",
       "1  Col25a1     1176.761395       -0.950117      DOWN  \n",
       "2     Sdk1      216.344835       -0.683171      DOWN  \n",
       "3    Thsd4      187.100745       -0.575236      DOWN  \n",
       "4     Cap2     3241.927847       -0.637369      DOWN  "
      ]
     },
     "execution_count": 64,
     "metadata": {},
     "output_type": "execute_result"
    }
   ],
   "source": [
    "result.head()"
   ]
  },
  {
   "cell_type": "code",
   "execution_count": 65,
   "metadata": {},
   "outputs": [
    {
     "name": "stdout",
     "output_type": "stream",
     "text": [
      "Total rows in file 1: 429\n",
      "Total rows in file 2: 383\n",
      "Number of matching rows: 43\n"
     ]
    }
   ],
   "source": [
    "result_up = find_intersection(file1_path, file2_path, upregulated)"
   ]
  },
  {
   "cell_type": "code",
   "execution_count": 66,
   "metadata": {},
   "outputs": [
    {
     "name": "stdout",
     "output_type": "stream",
     "text": [
      "Total rows in file 1: 2680\n",
      "Total rows in file 2: 383\n",
      "Number of matching rows: 329\n"
     ]
    }
   ],
   "source": [
    "result_down = find_intersection(file1_path, file2_path, downregulated)"
   ]
  },
  {
   "cell_type": "markdown",
   "metadata": {},
   "source": [
    "## NSC disregulated genes"
   ]
  },
  {
   "cell_type": "code",
   "execution_count": 67,
   "metadata": {},
   "outputs": [],
   "source": [
    "# Load gene lists from CSV files\n",
    "upregulated = pd.read_csv('custom_pipeline/DATA/nsc_upregulated_genes.csv')['gene'].tolist()\n",
    "downregulated = pd.read_csv('custom_pipeline/DATA/nsc_downregulated_genes.csv')['gene'].tolist() \n",
    "\n",
    "disregulated = upregulated + downregulated"
   ]
  },
  {
   "cell_type": "code",
   "execution_count": 68,
   "metadata": {},
   "outputs": [],
   "source": [
    "file1_path = 'custom_pipeline/results/NSC_peak_analysis_annotated_clean.csv'\n",
    "file2_path = 'custom_pipeline/DATA/allgenes_NSC_total.csv'"
   ]
  },
  {
   "cell_type": "code",
   "execution_count": 69,
   "metadata": {},
   "outputs": [],
   "source": [
    "%%script false --no-raise-error\n",
    "# Find intersection\n",
    "result = find_intersection(file1_path, file2_path)\n",
    "\n",
    "# Display the first few rows of the intersection\n",
    "result.head()\n",
    "\n",
    "# save the results\n",
    "# path_to_save = 'custom_pipeline/results'\n",
    "# result.to_csv(f'{path_to_save}/matches_NSC_file2.csv', index=False)"
   ]
  },
  {
   "cell_type": "code",
   "execution_count": 70,
   "metadata": {},
   "outputs": [
    {
     "name": "stdout",
     "output_type": "stream",
     "text": [
      "Total rows in file 1: 7889\n",
      "Total rows in file 2: 3071\n",
      "Number of matching rows: 609\n"
     ]
    }
   ],
   "source": [
    "# Find intersection\n",
    "result = find_intersection(file1_path, file2_path, disregulated)"
   ]
  },
  {
   "cell_type": "code",
   "execution_count": 71,
   "metadata": {},
   "outputs": [
    {
     "data": {
      "text/html": [
       "<div>\n",
       "<style scoped>\n",
       "    .dataframe tbody tr th:only-of-type {\n",
       "        vertical-align: middle;\n",
       "    }\n",
       "\n",
       "    .dataframe tbody tr th {\n",
       "        vertical-align: top;\n",
       "    }\n",
       "\n",
       "    .dataframe thead th {\n",
       "        text-align: right;\n",
       "    }\n",
       "</style>\n",
       "<table border=\"1\" class=\"dataframe\">\n",
       "  <thead>\n",
       "    <tr style=\"text-align: right;\">\n",
       "      <th></th>\n",
       "      <th>location</th>\n",
       "      <th>baseMean_file1</th>\n",
       "      <th>Endogenous_Promoter</th>\n",
       "      <th>Exogenous_Promoter</th>\n",
       "      <th>chrom</th>\n",
       "      <th>coords</th>\n",
       "      <th>start</th>\n",
       "      <th>end</th>\n",
       "      <th>gene</th>\n",
       "      <th>baseMean_file2</th>\n",
       "      <th>log2FoldChange</th>\n",
       "      <th>Direction</th>\n",
       "    </tr>\n",
       "  </thead>\n",
       "  <tbody>\n",
       "    <tr>\n",
       "      <th>0</th>\n",
       "      <td>chr18:12269975-12270216</td>\n",
       "      <td>48.49</td>\n",
       "      <td>True</td>\n",
       "      <td>False</td>\n",
       "      <td>chr18</td>\n",
       "      <td>12269975-12270216</td>\n",
       "      <td>12269975</td>\n",
       "      <td>12270216</td>\n",
       "      <td>Ankrd29</td>\n",
       "      <td>725.629024</td>\n",
       "      <td>1.282269</td>\n",
       "      <td>UP</td>\n",
       "    </tr>\n",
       "    <tr>\n",
       "      <th>1</th>\n",
       "      <td>chr14:67769750-67770300</td>\n",
       "      <td>74.82</td>\n",
       "      <td>True</td>\n",
       "      <td>False</td>\n",
       "      <td>chr14</td>\n",
       "      <td>67769750-67770300</td>\n",
       "      <td>67769750</td>\n",
       "      <td>67770300</td>\n",
       "      <td>Dock5</td>\n",
       "      <td>220.478208</td>\n",
       "      <td>1.649975</td>\n",
       "      <td>UP</td>\n",
       "    </tr>\n",
       "    <tr>\n",
       "      <th>2</th>\n",
       "      <td>chr2:27969165-27969462</td>\n",
       "      <td>49.74</td>\n",
       "      <td>False</td>\n",
       "      <td>True</td>\n",
       "      <td>chr2</td>\n",
       "      <td>27969165-27969462</td>\n",
       "      <td>27969165</td>\n",
       "      <td>27969462</td>\n",
       "      <td>Col5a1</td>\n",
       "      <td>278.615894</td>\n",
       "      <td>2.333655</td>\n",
       "      <td>UP</td>\n",
       "    </tr>\n",
       "    <tr>\n",
       "      <th>3</th>\n",
       "      <td>chr18:34839111-34839371</td>\n",
       "      <td>28.21</td>\n",
       "      <td>True</td>\n",
       "      <td>False</td>\n",
       "      <td>chr18</td>\n",
       "      <td>34839111-34839371</td>\n",
       "      <td>34839111</td>\n",
       "      <td>34839371</td>\n",
       "      <td>Kdm3b</td>\n",
       "      <td>3248.113447</td>\n",
       "      <td>0.583268</td>\n",
       "      <td>UP</td>\n",
       "    </tr>\n",
       "    <tr>\n",
       "      <th>4</th>\n",
       "      <td>chr1:33907599-33908138</td>\n",
       "      <td>26.62</td>\n",
       "      <td>True</td>\n",
       "      <td>False</td>\n",
       "      <td>chr1</td>\n",
       "      <td>33907599-33908138</td>\n",
       "      <td>33907599</td>\n",
       "      <td>33908138</td>\n",
       "      <td>Bend6</td>\n",
       "      <td>139.956085</td>\n",
       "      <td>-0.822750</td>\n",
       "      <td>DOWN</td>\n",
       "    </tr>\n",
       "  </tbody>\n",
       "</table>\n",
       "</div>"
      ],
      "text/plain": [
       "                  location  baseMean_file1  Endogenous_Promoter  \\\n",
       "0  chr18:12269975-12270216           48.49                 True   \n",
       "1  chr14:67769750-67770300           74.82                 True   \n",
       "2   chr2:27969165-27969462           49.74                False   \n",
       "3  chr18:34839111-34839371           28.21                 True   \n",
       "4   chr1:33907599-33908138           26.62                 True   \n",
       "\n",
       "   Exogenous_Promoter  chrom             coords     start       end     gene  \\\n",
       "0               False  chr18  12269975-12270216  12269975  12270216  Ankrd29   \n",
       "1               False  chr14  67769750-67770300  67769750  67770300    Dock5   \n",
       "2                True   chr2  27969165-27969462  27969165  27969462   Col5a1   \n",
       "3               False  chr18  34839111-34839371  34839111  34839371    Kdm3b   \n",
       "4               False   chr1  33907599-33908138  33907599  33908138    Bend6   \n",
       "\n",
       "   baseMean_file2  log2FoldChange Direction  \n",
       "0      725.629024        1.282269        UP  \n",
       "1      220.478208        1.649975        UP  \n",
       "2      278.615894        2.333655        UP  \n",
       "3     3248.113447        0.583268        UP  \n",
       "4      139.956085       -0.822750      DOWN  "
      ]
     },
     "execution_count": 71,
     "metadata": {},
     "output_type": "execute_result"
    }
   ],
   "source": [
    "result.head()"
   ]
  },
  {
   "cell_type": "code",
   "execution_count": 72,
   "metadata": {},
   "outputs": [
    {
     "name": "stdout",
     "output_type": "stream",
     "text": [
      "Total rows in file 1: 5166\n",
      "Total rows in file 2: 3071\n",
      "Number of matching rows: 395\n"
     ]
    }
   ],
   "source": [
    "result_up = find_intersection(file1_path, file2_path, upregulated)"
   ]
  },
  {
   "cell_type": "code",
   "execution_count": 73,
   "metadata": {},
   "outputs": [
    {
     "name": "stdout",
     "output_type": "stream",
     "text": [
      "Total rows in file 1: 2723\n",
      "Total rows in file 2: 3071\n",
      "Number of matching rows: 214\n"
     ]
    }
   ],
   "source": [
    "result_down = find_intersection(file1_path, file2_path, downregulated)"
   ]
  },
  {
   "cell_type": "code",
   "execution_count": null,
   "metadata": {},
   "outputs": [],
   "source": []
  }
 ],
 "metadata": {
  "kernelspec": {
   "display_name": "jupyter",
   "language": "python",
   "name": "jupyter"
  },
  "language_info": {
   "codemirror_mode": {
    "name": "ipython",
    "version": 3
   },
   "file_extension": ".py",
   "mimetype": "text/x-python",
   "name": "python",
   "nbconvert_exporter": "python",
   "pygments_lexer": "ipython3",
   "version": "3.11.10"
  }
 },
 "nbformat": 4,
 "nbformat_minor": 2
}
