{
 "cells": [
  {
   "cell_type": "code",
   "execution_count": 1,
   "metadata": {},
   "outputs": [],
   "source": [
    "import rpy2\n",
    "from rpy2.robjects import pandas2ri\n",
    "pandas2ri.activate()"
   ]
  },
  {
   "cell_type": "code",
   "execution_count": null,
   "metadata": {},
   "outputs": [],
   "source": [
    "# set working directory\n",
    "%cd /beegfs/scratch/ric.broccoli/kubacki.michal/SRF_ChipSeq/Visualization"
   ]
  },
  {
   "cell_type": "code",
   "execution_count": 2,
   "metadata": {},
   "outputs": [],
   "source": [
    "%load_ext rpy2.ipython"
   ]
  },
  {
   "cell_type": "code",
   "execution_count": null,
   "metadata": {},
   "outputs": [],
   "source": [
    "%%R\n",
    "# Load required libraries\n",
    "library(ChIPseeker)\n",
    "library(TxDb.Mmusculus.UCSC.mm10.knownGene)\n",
    "library(clusterProfiler)\n",
    "library(ggplot2)\n",
    "\n",
    "# Set your working directory to where your files are located\n",
    "setwd(\"/beegfs/scratch/ric.broccoli/kubacki.michal/SRF_ChipSeq/custom_pipeline\")"
   ]
  },
  {
   "cell_type": "code",
   "execution_count": 7,
   "metadata": {},
   "outputs": [],
   "source": [
    "%%R\n",
    "# Define sample groups\n",
    "endogenous_samples <- c(\"NeuM2\", \"NeuM3\", \"NSCM1\", \"NSCM2\", \"NSCM3\", \"IgM\")\n",
    "exogenous_samples <- c(\"NeuV1\", \"NeuV2\", \"NeuV3\", \"NSCv1\", \"NSCv2\", \"NSCv3\")"
   ]
  },
  {
   "cell_type": "code",
   "execution_count": null,
   "metadata": {},
   "outputs": [],
   "source": [
    "%%R\n",
    "# Read in your narrowPeak files\n",
    "peak_files <- list.files(path = \"/beegfs/scratch/ric.broccoli/kubacki.michal/SRF_ChipSeq/custom_pipeline/results/peaks\", pattern = \"*_peaks.narrowPeak$\", full.names = TRUE)\n",
    "\n",
    "# Add error checking for empty file list\n",
    "if (length(peak_files) == 0) {\n",
    "  stop(\"No peak files found in the specified directory\")\n",
    "}\n",
    "\n",
    "# Add error checking for file reading\n",
    "peak_list <- list()\n",
    "for (file in peak_files) {\n",
    "  if (file.size(file) > 0) {\n",
    "    peak_list[[file]] <- readPeakFile(file)\n",
    "  } else {\n",
    "    warning(paste(\"Skipping empty file:\", file))\n",
    "  }\n",
    "}\n",
    "\n",
    "# Only proceed with naming if we have peaks\n",
    "if (length(peak_list) > 0) {\n",
    "  names(peak_list) <- gsub(\"_peaks.narrowPeak\", \"\", basename(names(peak_list)))\n",
    "} else {\n",
    "  stop(\"No valid peak files were read\")\n",
    "}"
   ]
  },
  {
   "cell_type": "code",
   "execution_count": 11,
   "metadata": {},
   "outputs": [],
   "source": [
    "%%R\n",
    "# Filter peak list to include only the specified samples\n",
    "peak_list <- peak_list[c(endogenous_samples, exogenous_samples)]"
   ]
  },
  {
   "cell_type": "code",
   "execution_count": 12,
   "metadata": {},
   "outputs": [],
   "source": [
    "%%R\n",
    "# Create a txdb object\n",
    "txdb <- TxDb.Mmusculus.UCSC.mm10.knownGene"
   ]
  },
  {
   "cell_type": "code",
   "execution_count": null,
   "metadata": {},
   "outputs": [],
   "source": [
    "%%R\n",
    "# Plot the peak distribution relative to TSS\n",
    "promoter <- getPromoters(TxDb=txdb, upstream=3000, downstream=3000)\n",
    "\n",
    "# Add error checking for peak files\n",
    "tagMatrixList <- list()\n",
    "for (name in names(peak_list)) {\n",
    "  peaks <- peak_list[[name]]\n",
    "  # Check if peaks exists and is not NULL before checking nrow\n",
    "  if (!is.null(peaks)) {\n",
    "    if (is(peaks, \"GRanges\") && length(peaks) > 0) {\n",
    "      tagMatrixList[[name]] <- getTagMatrix(peaks, windows=promoter)\n",
    "    } else {\n",
    "      warning(paste(\"Skipping invalid peaks for:\", name))\n",
    "    }\n",
    "  } else {\n",
    "    warning(paste(\"Skipping NULL peaks for:\", name)) \n",
    "  }\n",
    "}\n"
   ]
  },
  {
   "cell_type": "code",
   "execution_count": 17,
   "metadata": {},
   "outputs": [],
   "source": [
    "%%R\n",
    "# Separate endogenous and exogenous samples\n",
    "tagMatrixList_endo <- tagMatrixList[endogenous_samples]\n",
    "tagMatrixList_exo <- tagMatrixList[exogenous_samples]"
   ]
  },
  {
   "cell_type": "code",
   "execution_count": null,
   "metadata": {},
   "outputs": [],
   "source": [
    "%%R\n",
    "# Plot average profiles\n",
    "pdf(\"./ChIP_seq_avg_profiles.pdf\", width=12, height=8)\n",
    "\n",
    "# Check if tagMatrixList_endo has valid data before plotting\n",
    "if (length(tagMatrixList_endo) > 0 && all(sapply(tagMatrixList_endo, function(x) !is.null(x) && is.matrix(x) && nrow(x) > 0))) {\n",
    "  plotAvgProf(tagMatrixList_endo, xlim=c(-3000, 3000), conf=0.95, resample=500, \n",
    "              facet=\"row\")\n",
    "  title(main=\"Endogenous Samples\")\n",
    "} else {\n",
    "  plot.new()\n",
    "  title(main=\"No valid data for endogenous samples\")\n",
    "}\n",
    "\n",
    "# Check if tagMatrixList_exo has valid data before plotting  \n",
    "if (length(tagMatrixList_exo) > 0 && all(sapply(tagMatrixList_exo, function(x) !is.null(x) && is.matrix(x) && nrow(x) > 0))) {\n",
    "  plotAvgProf(tagMatrixList_exo, xlim=c(-3000, 3000), conf=0.95, resample=500, \n",
    "              facet=\"row\")\n",
    "  title(main=\"Exogenous Samples\")\n",
    "} else {\n",
    "  plot.new()\n",
    "  title(main=\"No valid data for exogenous samples\") \n",
    "}\n",
    "\n",
    "dev.off()"
   ]
  },
  {
   "cell_type": "code",
   "execution_count": 23,
   "metadata": {},
   "outputs": [],
   "source": [
    "%%R\n",
    "# Annotate peaks\n",
    "peakAnnoList <- lapply(names(peak_list), function(name) {\n",
    "  peaks <- peak_list[[name]]\n",
    "  if (!is.null(peaks)) {\n",
    "    if (is.data.frame(peaks) && nrow(peaks) > 0) {\n",
    "      annotatePeak(peaks, TxDb=txdb, tssRegion=c(-3000, 3000), verbose=FALSE)\n",
    "    } else {\n",
    "      NULL\n",
    "    }\n",
    "  } else {\n",
    "    NULL\n",
    "  }\n",
    "})\n",
    "names(peakAnnoList) <- names(peak_list)"
   ]
  },
  {
   "cell_type": "code",
   "execution_count": null,
   "metadata": {},
   "outputs": [],
   "source": [
    "%%R\n",
    "# Plot genomic annotation\n",
    "pdf(\"ChIP_seq_genomic_annotation.pdf\", width=12, height=8)\n",
    "\n",
    "# Check if peakAnnoList has valid data for endogenous samples before plotting\n",
    "valid_endo <- !sapply(peakAnnoList[endogenous_samples], is.null)\n",
    "if (any(valid_endo)) {\n",
    "  plotAnnoBar(peakAnnoList[endogenous_samples][valid_endo])\n",
    "  title(main=\"Endogenous Samples\")\n",
    "} else {\n",
    "  plot.new()\n",
    "  title(main=\"No valid data for endogenous samples\")\n",
    "}\n",
    "\n",
    "# Check if peakAnnoList has valid data for exogenous samples before plotting\n",
    "valid_exo <- !sapply(peakAnnoList[exogenous_samples], is.null) \n",
    "if (any(valid_exo)) {\n",
    "  plotAnnoBar(peakAnnoList[exogenous_samples][valid_exo])\n",
    "  title(main=\"Exogenous Samples\")\n",
    "} else {\n",
    "  plot.new()\n",
    "  title(main=\"No valid data for exogenous samples\")\n",
    "}\n",
    "\n",
    "dev.off()"
   ]
  },
  {
   "cell_type": "code",
   "execution_count": null,
   "metadata": {},
   "outputs": [],
   "source": [
    "%%R\n",
    "# Plot distribution of peaks over chromosomes\n",
    "pdf(\"ChIP_seq_peak_distribution.pdf\", width=12, height=8)\n",
    "\n",
    "# Check if peakAnnoList has valid data for endogenous samples before plotting\n",
    "valid_endo <- !sapply(peakAnnoList[endogenous_samples], is.null)\n",
    "if (any(valid_endo)) {\n",
    "  plotAnnoPie(peakAnnoList[endogenous_samples][valid_endo])\n",
    "  title(main=\"Endogenous Samples - Peak Distribution\")\n",
    "} else {\n",
    "  plot.new()\n",
    "  title(main=\"No valid data for endogenous samples\")\n",
    "}\n",
    "\n",
    "# Check if peakAnnoList has valid data for exogenous samples before plotting\n",
    "valid_exo <- !sapply(peakAnnoList[exogenous_samples], is.null)\n",
    "if (any(valid_exo)) {\n",
    "  plotAnnoPie(peakAnnoList[exogenous_samples][valid_exo])\n",
    "  title(main=\"Exogenous Samples - Peak Distribution\") \n",
    "} else {\n",
    "  plot.new()\n",
    "  title(main=\"No valid data for exogenous samples\")\n",
    "}\n",
    "\n",
    "dev.off()"
   ]
  },
  {
   "cell_type": "code",
   "execution_count": null,
   "metadata": {},
   "outputs": [],
   "source": [
    "%%R\n",
    "# Compare peak numbers\n",
    "peak_numbers <- sapply(peak_list, length)\n",
    "peak_numbers_df <- data.frame(\n",
    "  Sample = names(peak_numbers),\n",
    "  PeakCount = peak_numbers,\n",
    "  Condition = ifelse(names(peak_numbers) %in% endogenous_samples, \"Endogenous\", \"Exogenous\"),\n",
    "  CellType = ifelse(grepl(\"Neu\", names(peak_numbers)), \"Neuron\", \"NSC\")\n",
    ")"
   ]
  },
  {
   "cell_type": "code",
   "execution_count": null,
   "metadata": {},
   "outputs": [],
   "source": [
    "%%R\n",
    "ggplot(peak_numbers_df, aes(x = Sample, y = PeakCount, fill = CellType)) +\n",
    "  geom_bar(stat = \"identity\") +\n",
    "  facet_wrap(~ Condition, scales = \"free_x\") +\n",
    "  theme(axis.text.x = element_text(angle = 45, hjust = 1)) +\n",
    "  labs(title = \"Peak Counts Across Samples\", y = \"Number of Peaks\")\n",
    "ggsave(\"peak_counts_comparison.pdf\", width = 12, height = 6)"
   ]
  }
 ],
 "metadata": {
  "kernelspec": {
   "display_name": "jupyter",
   "language": "python",
   "name": "jupyter"
  },
  "language_info": {
   "codemirror_mode": {
    "name": "ipython",
    "version": 3
   },
   "file_extension": ".py",
   "mimetype": "text/x-python",
   "name": "python",
   "nbconvert_exporter": "python",
   "pygments_lexer": "ipython3",
   "version": "3.11.10"
  }
 },
 "nbformat": 4,
 "nbformat_minor": 2
}
