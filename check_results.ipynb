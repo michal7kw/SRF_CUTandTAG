{
 "cells": [
  {
   "cell_type": "code",
   "execution_count": null,
   "metadata": {},
   "outputs": [],
   "source": []
  },
  {
   "cell_type": "code",
   "execution_count": null,
   "metadata": {},
   "outputs": [],
   "source": [
    "# Load required libraries\n",
    "library(ChIPseeker)\n",
    "library(TxDb.Hsapiens.UCSC.hg19.knownGene)\n",
    "library(clusterProfiler)\n",
    "\n",
    "# Set your working directory to where your files are located\n",
    "setwd(\"/path/to/your/chipseq/results\")\n",
    "\n",
    "# Read in your narrowPeak files\n",
    "peak_files <- list.files(pattern = \"*narrowPeak$\", full.names = TRUE)\n",
    "peak_list <- lapply(peak_files, readPeakFile)\n",
    "names(peak_list) <- gsub(\"_peaks.narrowPeak\", \"\", basename(peak_files))\n",
    "\n",
    "# Create a txdb object\n",
    "txdb <- TxDb.Hsapiens.UCSC.hg19.knownGene\n",
    "\n",
    "# Plot the peak distribution relative to TSS\n",
    "promoter <- getPromoters(TxDb=txdb, upstream=3000, downstream=3000)\n",
    "tagMatrixList <- lapply(peak_list, getTagMatrix, windows=promoter)\n",
    "plotAvgProf(tagMatrixList, xlim=c(-3000, 3000), conf=0.95, resample=500, facet=\"row\")\n",
    "\n",
    "# Plot genomic annotation\n",
    "peakAnnoList <- lapply(peak_list, annotatePeak, TxDb=txdb, tssRegion=c(-3000, 3000), verbose=FALSE)\n",
    "plotAnnoBar(peakAnnoList)\n",
    "\n",
    "# Plot distribution of peaks over chromosomes\n",
    "plotDistribution(peakAnnoList)\n",
    "\n",
    "# Output results to a PDF file\n",
    "pdf(\"ChIP_seq_visualization.pdf\", width=12, height=8)\n",
    "plotAvgProf(tagMatrixList, xlim=c(-3000, 3000), conf=0.95, resample=500, facet=\"row\")\n",
    "plotAnnoBar(peakAnnoList)\n",
    "plotDistribution(peakAnnoList)\n",
    "dev.off()"
   ]
  }
 ],
 "metadata": {
  "language_info": {
   "name": "python"
  }
 },
 "nbformat": 4,
 "nbformat_minor": 2
}
